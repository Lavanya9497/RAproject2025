{
 "cells": [
  {
   "cell_type": "markdown",
   "id": "cf7046e8",
   "metadata": {},
   "source": [
    "#####  To describe the laboratory characteristics of patients in relation to their coronary calcification score, using a regression approach. \n",
    "\n",
    "#####  1. Importing dependencies "
   ]
  },
  {
   "cell_type": "code",
   "execution_count": 3,
   "id": "4cb98180",
   "metadata": {},
   "outputs": [],
   "source": [
    "import pandas as pd\n",
    "import numpy as np\n",
    "import matplotlib.pyplot as plt\n",
    "from sklearn.model_selection import train_test_split"
   ]
  },
  {
   "cell_type": "markdown",
   "id": "acd6d24e",
   "metadata": {},
   "source": [
    "##### 2. Reading dataset and pre processing"
   ]
  },
  {
   "cell_type": "code",
   "execution_count": 127,
   "id": "2ad2cb62",
   "metadata": {},
   "outputs": [
    {
     "name": "stdout",
     "output_type": "stream",
     "text": [
      "(794, 38)\n"
     ]
    }
   ],
   "source": [
    "df = pd.read_excel(r\"C:\\Users\\lavan\\Downloads\\RA_NUIG\\CALCIUM ZERO DATASET 25 July .xlsx\", na_values=[\"\", \" \", \"NA\", \"N/A\"])\n",
    "\n",
    "#columns hidden on the excel sheet were said to be irrelvant so they were removed\n",
    "dropcolumns = [\"height\",\"weight\", \"record\",\"reason___3\",\n",
    "               \"reason___4\",\n",
    "               \"reason___5\",\n",
    "               \"other_symptoms\",\n",
    "               \"bp\",\n",
    "               \"systolic_blood_pressure\",\n",
    "               \"diastoic_blood_pressure\",\n",
    "               \"hr\",\n",
    "               \"country\",             \"mother\", \n",
    "               \"father\",\n",
    "               \"language\",\n",
    "               \"glucose\",\n",
    "               \"random\",\n",
    "               \"lip_a_nmol_l\", \n",
    "               \"lipoprotein_a_mg_dl\", \n",
    "               \"laboratory_data_complete\",\n",
    "               \"ct___1\",\n",
    "               \"ct___2\",\n",
    "               \"contrast\",\n",
    "               \"contrast_amount\",\n",
    "               \"radiation\",\n",
    "               \"calcification_score\",\n",
    "               \"percentile_rank\",\n",
    "               \"plaque_burden\",\n",
    "               \"clinical_impression\",\n",
    "               \"ct_coronary_angiography_complete\",\n",
    "               \"Unnamed: 74\",\n",
    "               \"Unnamed: 75\",\n",
    "               \"Presence of any plaque (yes=1; no=0)\",\n",
    "               \"Patients with ZERO CALCIUM SCORE (yes=1; no=0)\",\n",
    "               \"CADrads_classification\",\n",
    "               \"type\", \"ast\" , \"ethnicity\", \"calcium\",\n",
    "                 \"type\",\"potassium\" #removed since they have 15% missing values\n",
    "              ]\n",
    "df = df.drop(columns=dropcolumns)\n",
    "print(df.shape)"
   ]
  },
  {
   "cell_type": "code",
   "execution_count": 128,
   "id": "413f3abe",
   "metadata": {},
   "outputs": [
    {
     "data": {
      "image/png": "[encoded data removed]",
      "text/plain": [
       "<Figure size 640x480 with 1 Axes>"
      ]
     },
     "metadata": {},
     "output_type": "display_data"
    },
    {
     "name": "stdout",
     "output_type": "stream",
     "text": [
      "min       0.0\n",
      "max    4000.0\n",
      "Name: coronary_calcification_score, dtype: float64\n"
     ]
    }
   ],
   "source": [
    "# check score distribution\n",
    "df[\"coronary_calcification_score\"].hist(bins=50)\n",
    "plt.xlabel(\"Coronary Calcification Score\")\n",
    "plt.ylabel(\"Count\")\n",
    "plt.show()\n",
    "print(df[\"coronary_calcification_score\"].describe()[[\"min\", \"max\"]])"
   ]
  },
  {
   "cell_type": "code",
   "execution_count": 129,
   "id": "5fd035ad",
   "metadata": {},
   "outputs": [
    {
     "name": "stdout",
     "output_type": "stream",
     "text": [
      "Median: 1.0\n",
      "Mean: 118.39735516372797\n",
      "95th percentile: 686.3499999999999\n",
      "99th percentile: 1483.6199999999958\n",
      "Max: 4000.0\n"
     ]
    }
   ],
   "source": [
    "print(\"Median:\", np.median(df[\"coronary_calcification_score\"]))\n",
    "print(\"Mean:\", np.mean(df[\"coronary_calcification_score\"]))\n",
    "print(\"95th percentile:\", np.percentile(df[\"coronary_calcification_score\"], 95))\n",
    "print(\"99th percentile:\", np.percentile(df[\"coronary_calcification_score\"], 99))\n",
    "print(\"Max:\", np.max(df[\"coronary_calcification_score\"]))\n"
   ]
  },
  {
   "cell_type": "code",
   "execution_count": 130,
   "id": "15658fe7",
   "metadata": {},
   "outputs": [
    {
     "name": "stdout",
     "output_type": "stream",
     "text": [
      "99th pct: 1828.4 | n_outliers: 5\n",
      "Top outliers (value, index): [(np.float64(4000.0), np.int64(395)), (np.float64(2986.0), np.int64(266)), (np.float64(2500.0), np.int64(352)), (np.float64(2500.0), np.int64(338)), (np.float64(2438.0), np.int64(252))]\n"
     ]
    }
   ],
   "source": [
    "p99 = np.percentile(y_raw, 99)\n",
    "idx_out = np.where(y_raw > p99)[0]\n",
    "print(f\"99th pct: {p99:.1f} | n_outliers: {len(idx_out)}\")\n",
    "print(\"Top outliers (value, index):\", sorted([(y_raw[i], i) for i in idx_out], reverse=True)[:10])\n"
   ]
  },
  {
   "cell_type": "markdown",
   "id": "146d4a4c",
   "metadata": {},
   "source": [
    "### CC score appears to be highly right skewed and has multiple outliers.  "
   ]
  },
  {
   "cell_type": "code",
   "execution_count": 131,
   "id": "8cccf612",
   "metadata": {},
   "outputs": [
    {
     "name": "stdout",
     "output_type": "stream",
     "text": [
      "                              Missing Count  Missing Percent\n",
      "ck                                      102            12.85\n",
      "alt                                      94            11.84\n",
      "stroke                                   75             9.45\n",
      "ggt                                      67             8.44\n",
      "apoa                                     48             6.05\n",
      "ratio                                    48             6.05\n",
      "bilirubin                                48             6.05\n",
      "apob                                     48             6.05\n",
      "lipoprotein_a                            42             5.29\n",
      "troponin                                 41             5.16\n",
      "ldl                                      35             4.41\n",
      "cad                                      32             4.03\n",
      "pad                                      31             3.90\n",
      "adjusted_calcium                         27             3.40\n",
      "crp                                      26             3.27\n",
      "egfr                                     26             3.27\n",
      "bun                                      25             3.15\n",
      "sodium                                   24             3.02\n",
      "chloride                                 24             3.02\n",
      "creatinine                               24             3.02\n",
      "tc                                       23             2.90\n",
      "tg                                       23             2.90\n",
      "hba1c                                    22             2.77\n",
      "family                                   22             2.77\n",
      "hdl                                      21             2.64\n",
      "plt                                      18             2.27\n",
      "wbc                                      17             2.14\n",
      "hb                                       17             2.14\n",
      "bmi_cal                                  15             1.89\n",
      "atherosclerosis                          13             1.64\n",
      "hyperlipidemia                           10             1.26\n",
      "alcohol                                   9             1.13\n",
      "diabetes                                  4             0.50\n",
      "smoking                                   3             0.38\n",
      "age                                       2             0.25\n",
      "hypertension                              2             0.25\n",
      "gender                                    0             0.00\n",
      "coronary_calcification_score              0             0.00\n"
     ]
    }
   ],
   "source": [
    "missing_counts = df.isnull().sum()\n",
    "missing_perc = (df.isnull().mean() * 100).round(2) # %\n",
    "\n",
    "missing_table = pd.DataFrame({\n",
    "    #\"Variable\" : df.columns,\n",
    "    \"Missing Count\": missing_counts,\n",
    "    \"Missing Percent\": missing_perc\n",
    "})\n",
    "print(missing_table.sort_values(\"Missing Count\", ascending=False).head(46))  \n",
    "\n"
   ]
  },
  {
   "cell_type": "code",
   "execution_count": 132,
   "id": "9be19092",
   "metadata": {},
   "outputs": [
    {
     "name": "stdout",
     "output_type": "stream",
     "text": [
      "Original shape: (794, 38)\n",
      "Reduced shape after dropping rows: (499, 38)\n",
      "Zero count for CC score: 254\n"
     ]
    }
   ],
   "source": [
    "df_complete = df.dropna()\n",
    "print(\"Original shape:\", df.shape)\n",
    "print(\"Reduced shape after dropping rows:\", df_complete.shape)\n",
    "# numeric column\n",
    "zero_count = df_complete[\"coronary_calcification_score\"].eq(0).sum()\n",
    "print(\"Zero count for CC score:\", zero_count)\n",
    "df_complete = df_complete.copy()\n",
    "\n",
    "df_complete[\"smoking\"] = df_complete[\"smoking\"].astype(\"category\")\n"
   ]
  },
  {
   "cell_type": "markdown",
   "id": "7645b35f",
   "metadata": {},
   "source": [
    "### Linear regression"
   ]
  },
  {
   "cell_type": "code",
   "execution_count": 133,
   "id": "0ed47299",
   "metadata": {},
   "outputs": [],
   "source": [
    "from sklearn.linear_model import LinearRegression\n",
    "from sklearn.metrics import mean_absolute_error, mean_squared_error, r2_score\n",
    "from sklearn.pipeline import make_pipeline\n",
    "from sklearn.preprocessing import StandardScaler\n",
    "from sklearn.model_selection import train_test_split"
   ]
  },
  {
   "cell_type": "code",
   "execution_count": 134,
   "id": "21f281ae",
   "metadata": {},
   "outputs": [
    {
     "name": "stdout",
     "output_type": "stream",
     "text": [
      "MAE : 131.15\n",
      "RMSE: 433.07\n",
      "R^2 : -0.030\n",
      "After the smearing:\n",
      "RMSE : 391.07\n",
      "MAE: 150.33\n",
      "R^2: 0.16\n"
     ]
    }
   ],
   "source": [
    "TARGET=\"coronary_calcification_score\"\n",
    "\n",
    "y = np.log1p(df_complete[\"coronary_calcification_score\"])     \n",
    "X = df_complete.drop(columns=[\"coronary_calcification_score\"])\n",
    "\n",
    "X_tr, X_te, y_tr, y_te = train_test_split(X, y, test_size=0.2, random_state=42)\n",
    "\n",
    "pipe_lr = make_pipeline(StandardScaler(), LinearRegression())\n",
    "pipe_lr.fit(X_tr, y_tr)\n",
    "\n",
    "y_pred_log = pipe_lr.predict(X_te)\n",
    "y_pred = np.expm1(y_pred_log)   # back-transform\n",
    "y_true = np.expm1(y_te)\n",
    "\n",
    "mae = mean_absolute_error(y_true, y_pred)\n",
    "mse = mean_squared_error(y_true, y_pred)\n",
    "rmse = np.sqrt(mse)\n",
    "r2 = r2_score(y_true, y_pred)\n",
    "\n",
    "print(f\"MAE : {mae:.2f}\")\n",
    "print(f\"RMSE: {rmse:.2f}\")\n",
    "print(f\"R^2 : {r2:.3f}\")\n",
    "\n",
    "\n",
    "# Smearing factor from train residuals\n",
    "res_tr = y_tr - pipe_lr.predict(X_tr)\n",
    "smear = np.mean(np.exp(res_tr))\n",
    "\n",
    "y_pred_log = pipe_lr.predict(X_te)\n",
    "y_pred1 = smear * np.expm1(y_pred_log)\n",
    "y_true = np.expm1(y_te)\n",
    "\n",
    "rmse1 = mean_squared_error(y_true, y_pred1)\n",
    "rmse_s= np.sqrt(rmse1)\n",
    "mae1  = mean_absolute_error(y_true, y_pred1)\n",
    "print(\"After the smearing:\")\n",
    "print(f\"RMSE : {rmse_s:.2f}\")\n",
    "print( f\"MAE: {mae1:.2f}\")\n",
    "r2 = r2_score(y_true, y_pred1) \n",
    "print(f\"R^2: {r2:.2f}\")"
   ]
  },
  {
   "cell_type": "markdown",
   "id": "1d86d436",
   "metadata": {},
   "source": [
    "##### Smearing improved overall fit (positive R²), but predictive power is still weak."
   ]
  },
  {
   "cell_type": "markdown",
   "id": "7421478b",
   "metadata": {},
   "source": [
    "#### Regularized linear model (ElasticNetCV)"
   ]
  },
  {
   "cell_type": "code",
   "execution_count": 135,
   "id": "48546b05",
   "metadata": {},
   "outputs": [],
   "source": [
    "from sklearn.model_selection import cross_val_score\n",
    "from sklearn.compose import ColumnTransformer\n",
    "from sklearn.preprocessing import OneHotEncoder ,  StandardScaler\n",
    "from sklearn.impute import SimpleImputer\n",
    "from sklearn.linear_model import ElasticNetCV\n"
   ]
  },
  {
   "cell_type": "code",
   "execution_count": 136,
   "id": "eff4fd8c",
   "metadata": {},
   "outputs": [],
   "source": [
    "cat_cols = [\"smoking\"] \n",
    "num_cols = [c for c in df_complete.columns if c not in [\"smoking\", \"coronary_calcification_score\"]]\n",
    "\n",
    "\n",
    "# One-hot encoder\n",
    "ohe = OneHotEncoder(handle_unknown=\"ignore\", drop=\"first\", sparse_output=False) # only used for smoking variable since it has 3 categories\n",
    "\n",
    "# Column transformer\n",
    "pre = ColumnTransformer(\n",
    "    [(\"num\", StandardScaler(), num_cols),\n",
    "     (\"cat\", ohe, cat_cols)],\n",
    "    remainder=\"drop\"\n",
    ")"
   ]
  },
  {
   "cell_type": "code",
   "execution_count": 137,
   "id": "95255cdb",
   "metadata": {},
   "outputs": [
    {
     "name": "stdout",
     "output_type": "stream",
     "text": [
      "Best alpha   : 0.2512560240423698\n",
      "Best l1_ratio: 0.1\n"
     ]
    }
   ],
   "source": [
    "\n",
    "enet = ElasticNetCV(\n",
    "    alphas=200,                  \n",
    "    l1_ratio=[0.1,0.3,0.5,0.7,0.9,1.0],\n",
    "    cv=5, random_state=42\n",
    ")\n",
    "pipe = make_pipeline(pre, enet)\n",
    "\n",
    "pipe.fit(X_tr, y_tr)\n",
    "\n",
    "y_pred_log = pipe.predict(X_te)\n",
    "\n",
    "best_enet = pipe.named_steps[\"elasticnetcv\"]\n",
    "print(\"Best alpha   :\", best_enet.alpha_)\n",
    "print(\"Best l1_ratio:\", best_enet.l1_ratio_)"
   ]
  },
  {
   "cell_type": "code",
   "execution_count": 138,
   "id": "b38faeb6",
   "metadata": {},
   "outputs": [
    {
     "name": "stdout",
     "output_type": "stream",
     "text": [
      "MAE : 131.52\n",
      "RMSE: 435.75\n",
      "R^2 : -0.042\n"
     ]
    }
   ],
   "source": [
    "#y_pred_log = pipe.predict(X_te) # pred\n",
    "y_pred = np.expm1(y_pred_log)    # back to original scale\n",
    "y_true = np.expm1(y_te)   # back-transformation\n",
    "\n",
    "mae  = mean_absolute_error(y_true, y_pred)\n",
    "mse  = mean_squared_error(y_true, y_pred)\n",
    "rmse = np.sqrt(mse)                \n",
    "r2   = r2_score(y_true, y_pred)\n",
    "\n",
    "print(f\"MAE : {mae:.2f}\")\n",
    "print(f\"RMSE: {rmse:.2f}\")\n",
    "print(f\"R^2 : {r2:.3f}\")"
   ]
  },
  {
   "cell_type": "markdown",
   "id": "0c7ce40f",
   "metadata": {},
   "source": [
    "####  Two-part model (Part I: logistic Part II: log-normal + Duan smearing) \n",
    "1. **Logistic regression (Part I):**  \n",
    "   - Train/test split with stratification on nonzero values.  \n",
    "   - Logistic regression predicts probability that the score > 0.  "
   ]
  },
  {
   "cell_type": "code",
   "execution_count": 139,
   "id": "04504a46",
   "metadata": {},
   "outputs": [],
   "source": [
    "from sklearn.model_selection import train_test_split\n",
    "from sklearn.pipeline import Pipeline\n",
    "from sklearn.linear_model import LogisticRegression\n",
    "from sklearn.metrics import (\n",
    "    roc_auc_score, average_precision_score,\n",
    "    mean_absolute_error, mean_squared_error, r2_score\n",
    ")\n",
    "from sklearn.base import clone\n",
    "import statsmodels.formula.api as smf\n"
   ]
  },
  {
   "cell_type": "code",
   "execution_count": 140,
   "id": "fc288b01",
   "metadata": {},
   "outputs": [
    {
     "name": "stdout",
     "output_type": "stream",
     "text": [
      "Classifier AUC: 0.621 | PR-AUC: 0.653\n"
     ]
    }
   ],
   "source": [
    "\n",
    "    \n",
    "TARGET = \"coronary_calcification_score\"\n",
    "\n",
    "y_raw = df_complete[TARGET].values\n",
    "X_all = df_complete.drop(columns=[TARGET])\n",
    "strat = (y_raw > 0).astype(int)\n",
    "\n",
    "X_tr_raw, X_te_raw, y_tr_raw, y_te_raw = train_test_split(\n",
    "    X_all, y_raw, test_size=0.20, random_state=42, stratify=strat\n",
    ")\n",
    "\n",
    "# Part 1: Logistic \n",
    "clf = Pipeline([(\"pre\", clone(pre)), (\"lg\", LogisticRegression(max_iter=2000))])\n",
    "clf.fit(X_tr_raw, (y_tr_raw > 0).astype(int))\n",
    "p_hat_te = clf.predict_proba(X_te_raw)[:, 1]\n",
    "\n",
    "print(f\"Classifier AUC: {roc_auc_score((y_te_raw>0).astype(int), p_hat_te):.3f} | \"\n",
    "      f\"PR-AUC: {average_precision_score((y_te_raw>0).astype(int), p_hat_te):.3f}\")\n",
    "\n",
    "num_sel = X_tr_raw.select_dtypes(include=[np.number]).columns.tolist()\n",
    "cat_sel = [c for c in X_tr_raw.columns if c not in num_sel]\n",
    "\n",
    "for c in [\"smoking\"]: \n",
    "    if c in X_tr_raw.columns and c in num_sel:\n",
    "        num_sel.remove(c)\n",
    "        cat_sel.append(c)\n",
    "\n",
    "cols_part2 = num_sel + cat_sel"
   ]
  },
  {
   "cell_type": "markdown",
   "id": "916e7da2",
   "metadata": {},
   "source": [
    "\n",
    "\n",
    "2. **Log-normal model with Duan smearing (Part II):**  \n",
    "   - Subset data to positive scores.  \n",
    "   - Standardize numerical variables and convert categorical predictors into factors.  \n",
    "   - Fit OLS on `log(y)` to account for skewness.  \n",
    "   - Apply Duan smearing factor to back-transform variables to the original scale"
   ]
  },
  {
   "cell_type": "code",
   "execution_count": 141,
   "id": "1a7cc01d",
   "metadata": {},
   "outputs": [
    {
     "name": "stdout",
     "output_type": "stream",
     "text": [
      "\n",
      "Part II (log-normal) formula:\n",
      " logy ~ bmi_cal + age + gender + alcohol + hypertension + hyperlipidemia + diabetes + family + atherosclerosis + pad + cad + stroke + troponin + ck + hb + wbc + plt + tc + tg + hdl + ldl + hba1c + crp + egfr + creatinine + bun + sodium + lipoprotein_a + apoa + apob + ratio + bilirubin + alt + ggt + chloride + adjusted_calcium + C(smoking)\n"
     ]
    }
   ],
   "source": [
    "#Modelling\n",
    "pos_mask = y_tr_raw > 0\n",
    "X_pos = X_tr_raw.loc[pos_mask, cols_part2].copy()\n",
    "y_pos = y_tr_raw[pos_mask].copy()\n",
    "\n",
    "# Standarizing numerical variables :z-score\n",
    "num_stats = {c: (float(X_pos[c].mean()), float(X_pos[c].std() or 1.0)) for c in num_sel}\n",
    "X_design = X_pos.copy()\n",
    "for c, (mu, sd) in num_stats.items():\n",
    "    X_design[c] = (X_design[c] - mu) / sd\n",
    "\n",
    "#formula: numeric + categorical as factors\n",
    "rhs_terms = []\n",
    "if num_sel: rhs_terms += num_sel\n",
    "if cat_sel: rhs_terms += [f\"C({c})\" for c in cat_sel]\n",
    "formula = f\"logy ~ {' + '.join(rhs_terms) if rhs_terms else '1'}\"\n",
    "print(\"\\nPart II (log-normal) formula:\\n\", formula)\n",
    "\n",
    "# Fit OLS on log(y) and compute Duan smearing\n",
    "ols = smf.ols(formula, data=X_design.assign(logy=np.log(y_pos))).fit()\n",
    "smear = float(np.exp(ols.resid).mean())"
   ]
  },
  {
   "cell_type": "code",
   "execution_count": 142,
   "id": "bceddc19",
   "metadata": {},
   "outputs": [
    {
     "name": "stdout",
     "output_type": "stream",
     "text": [
      "PART II (Y>0, test) — MAE/RMSE/R²: 232.497 437.420 0.534\n",
      "OVERALL (2-part) — MAE/RMSE/R²: 151.892 341.685 0.468\n"
     ]
    }
   ],
   "source": [
    "# Predict μ+ on TEST\n",
    "X_te_glm = X_te_raw[cols_part2].copy()\n",
    "for c, (mu, sd) in num_stats.items():\n",
    "    X_te_glm[c] = (X_te_glm[c] - mu) / sd\n",
    "\n",
    "mu_plus_te = np.exp(ols.predict(X_te_glm)) * smear              # E[Y | Y>0, X]\n",
    "y_hat_te   = np.clip(p_hat_te * mu_plus_te, 0, None)            # Overall E[Y | X]\n",
    "\n",
    "# Metrics\n",
    "rmse = lambda a,b: float(np.sqrt(mean_squared_error(a,b)))\n",
    "pos_te = y_te_raw > 0\n",
    "\n",
    "print(\"PART II (Y>0, test) — MAE/RMSE/R²:\",\n",
    "      f\"{mean_absolute_error(y_te_raw[pos_te], mu_plus_te[pos_te]):.3f}\",\n",
    "      f\"{rmse(y_te_raw[pos_te], mu_plus_te[pos_te]):.3f}\",\n",
    "      f\"{r2_score(y_te_raw[pos_te], mu_plus_te[pos_te]):.3f}\")\n",
    "\n",
    "print(\"OVERALL (2-part) — MAE/RMSE/R²:\",\n",
    "      f\"{mean_absolute_error(y_te_raw, y_hat_te):.3f}\",\n",
    "      f\"{rmse(y_te_raw, y_hat_te):.3f}\",\n",
    "      f\"{r2_score(y_te_raw, y_hat_te):.3f}\")\n"
   ]
  },
  {
   "cell_type": "markdown",
   "id": "786b516f",
   "metadata": {},
   "source": [
    "### Two-Part Model Performance – Coronary Calcification (CAC)\n",
    "\n",
    "**Part II (Y>0):** MAE 232.6 | RMSE 438.3 | R² 0.53  \n",
    "→ Explains ~53% of variability; some large errors due to extreme CAC values.  \n",
    "\n",
    "**Overall (Two-Part):** MAE 152.5 | RMSE 342.4 | R² 0.47  \n",
    "→ Captures ~47% of total variability; zeros improve fit.  \n",
    "\n",
    "**Summary:** Two-part model performs reasonably well; main limitation is extreme values.\n"
   ]
  },
  {
   "cell_type": "code",
   "execution_count": 143,
   "id": "329e1d7a",
   "metadata": {},
   "outputs": [
    {
     "data": {
      "image/png": "[encoded data removed]",
      "text/plain": [
       "<Figure size 640x480 with 1 Axes>"
      ]
     },
     "metadata": {},
     "output_type": "display_data"
    }
   ],
   "source": [
    "import matplotlib.pyplot as plt\n",
    "from sklearn.metrics import (\n",
    "    roc_curve, roc_auc_score,\n",
    "    precision_recall_curve, average_precision_score,\n",
    ")\n",
    "from sklearn.calibration import calibration_curve\n",
    "\n",
    "y_te_bin = (y_te_raw > 0).astype(int)\n",
    "\n",
    "# Roc\n",
    "fpr, tpr, _ = roc_curve(y_te_bin, p_hat_te)\n",
    "auc = roc_auc_score(y_te_bin, p_hat_te)\n",
    "\n",
    "plt.figure()\n",
    "plt.plot([0, 1], [0, 1], linestyle=\"--\")\n",
    "plt.plot(fpr, tpr, marker=None)\n",
    "plt.xlabel(\"False Positive Rate\")\n",
    "plt.ylabel(\"True Positive Rate\")\n",
    "plt.title(f\"ROC Curve (AUC = {auc:.3f})\")\n",
    "plt.grid(True, alpha=0.3)\n",
    "plt.tight_layout()\n",
    "plt.show()"
   ]
  },
  {
   "cell_type": "code",
   "execution_count": 144,
   "id": "ef65bd04",
   "metadata": {},
   "outputs": [
    {
     "data": {
      "image/png": "[encoded data removed]",
      "text/plain": [
       "<Figure size 640x480 with 1 Axes>"
      ]
     },
     "metadata": {},
     "output_type": "display_data"
    }
   ],
   "source": [
    "# Precision–Recall \n",
    "prec, rec, _ = precision_recall_curve(y_te_bin, p_hat_te)\n",
    "ap = average_precision_score(y_te_bin, p_hat_te)\n",
    "baseline = y_te_bin.mean()\n",
    "\n",
    "plt.figure()\n",
    "plt.plot([0, 1], [baseline, baseline], linestyle=\"--\")\n",
    "plt.plot(rec, prec)\n",
    "plt.xlabel(\"Recall\")\n",
    "plt.ylabel(\"Precision\")\n",
    "plt.title(f\"Precision–Recall Curve (AP = {ap:.3f})\")\n",
    "plt.grid(True, alpha=0.3)\n",
    "plt.tight_layout()\n",
    "plt.show()"
   ]
  },
  {
   "cell_type": "code",
   "execution_count": 145,
   "id": "5528f68d",
   "metadata": {},
   "outputs": [
    {
     "data": {
      "image/png": "[encoded data removed]",
      "text/plain": [
       "<Figure size 640x480 with 1 Axes>"
      ]
     },
     "metadata": {},
     "output_type": "display_data"
    }
   ],
   "source": [
    "#  Actual vs Predicted \n",
    "\n",
    "frac_pos, mean_pred = calibration_curve(y_te_bin, p_hat_te, n_bins=10, strategy=\"quantile\")\n",
    "\n",
    "plt.figure()\n",
    "plt.plot([0, 1], [0, 1], linestyle=\"--\")\n",
    "plt.plot(mean_pred, frac_pos, marker=\"o\")\n",
    "plt.xlabel(\"Mean Predicted Probability\")\n",
    "plt.ylabel(\"Fraction of Positives\")\n",
    "plt.title(\"Calibration: Actual vs Predicted\")\n",
    "plt.grid(True, alpha=0.3)\n",
    "plt.tight_layout()\n",
    "plt.show()\n"
   ]
  },
  {
   "cell_type": "markdown",
   "id": "d2c4ab48",
   "metadata": {},
   "source": [
    "#### K-fold validation"
   ]
  },
  {
   "cell_type": "code",
   "execution_count": 146,
   "id": "b180c5c9",
   "metadata": {},
   "outputs": [
    {
     "name": "stdout",
     "output_type": "stream",
     "text": [
      "Fold 1 — PART II (Y>0): MAE 304.59 | RMSE 565.48 | R² -0.422 || OVERALL: MAE 313.14 | RMSE 1576.65 | R² -19.089\n",
      "Fold 2 — PART II (Y>0): MAE 780.48 | RMSE 3321.69 | R² -54.826 || OVERALL: MAE 387.38 | RMSE 1989.11 | R² -34.227\n",
      "Fold 3 — PART II (Y>0): MAE 217972.54 | RMSE 1519494.08 | R² -24207408.458 || OVERALL: MAE 106664.56 | RMSE 1063642.69 | R² -18599771.462\n",
      "Fold 4 — PART II (Y>0): MAE 226.95 | RMSE 394.19 | R² 0.434 || OVERALL: MAE 122.54 | RMSE 285.37 | R² 0.455\n",
      "Fold 5 — PART II (Y>0): MAE 548.56 | RMSE 1704.84 | R² -6.149 || OVERALL: MAE 281.43 | RMSE 1147.20 | R² -5.036\n",
      "\n",
      " 5-Fold CV Summary \n",
      "Positives : MAE 43966.62±87003.18 | RMSE 305096.06±607199.91 | R² -4841493.884±9682957.287\n",
      "Overall: MAE 21553.81±42555.46 | RMSE 213728.20±424957.62 | R² -3719965.872±7439902.795\n"
     ]
    }
   ],
   "source": [
    "from sklearn.model_selection import StratifiedKFold\n",
    "\n",
    "def rmse(a, b):\n",
    "    return float(np.sqrt(mean_squared_error(a, b)))\n",
    "\n",
    "# stratify by zero vs >0\n",
    "z = (y_raw > 0).astype(int)\n",
    "\n",
    "skf = StratifiedKFold(n_splits=5, shuffle=True, random_state=42)\n",
    "\n",
    "maes_over, rmses_over, r2s_over = [], [], []\n",
    "maes_pos, rmses_pos, r2s_pos = [], [], []\n",
    "\n",
    "for fold, (tr, te) in enumerate(skf.split(X_all, z), 1):\n",
    "    X_tr_raw, X_te_raw = X_all.iloc[tr].copy(), X_all.iloc[te].copy()\n",
    "    y_tr_raw, y_te_raw = y_raw[tr], y_raw[te]\n",
    "\n",
    "    #Part I: logistic\n",
    "    clf = Pipeline([(\"pre\", clone(pre)), (\"lg\", LogisticRegression(max_iter=2000))])\n",
    "    clf.fit(X_tr_raw, (y_tr_raw > 0).astype(int))\n",
    "    p_hat_te = clf.predict_proba(X_te_raw)[:, 1]\n",
    "\n",
    "    # Part II: log-normal OLS on train positives \n",
    "    num_sel = X_tr_raw.select_dtypes(include=[np.number]).columns.tolist()\n",
    "    cat_sel = [c for c in X_tr_raw.columns if c not in num_sel]\n",
    "    for c in [\"smoking\"]:\n",
    "        if c in X_tr_raw.columns and c in num_sel:\n",
    "            num_sel.remove(c)\n",
    "            cat_sel.append(c)\n",
    "    cols_part2 = num_sel + cat_sel\n",
    "\n",
    "    pos_mask = y_tr_raw > 0\n",
    "    X_pos = X_tr_raw.loc[pos_mask, cols_part2].copy()\n",
    "    y_pos = y_tr_raw[pos_mask].copy()\n",
    "\n",
    "    num_stats = {c: (float(X_pos[c].mean()), float(X_pos[c].std() or 1.0)) for c in num_sel}\n",
    "    X_design = X_pos.copy()\n",
    "    for c, (mu, sd) in num_stats.items():\n",
    "        X_design[c] = (X_design[c] - mu) / sd\n",
    "\n",
    "    rhs_terms = []\n",
    "    if num_sel: rhs_terms += num_sel\n",
    "    if cat_sel: rhs_terms += [f\"C({c})\" for c in cat_sel]\n",
    "    formula = f\"logy ~ {' + '.join(rhs_terms) if rhs_terms else '1'}\"\n",
    "\n",
    "    ols = smf.ols(formula, data=X_design.assign(logy=np.log(y_pos))).fit()\n",
    "    smear = float(np.exp(ols.resid).mean())\n",
    "\n",
    "    X_te_glm = X_te_raw[cols_part2].copy()\n",
    "    for c, (mu, sd) in num_stats.items():\n",
    "        X_te_glm[c] = (X_te_glm[c] - mu) / sd\n",
    "\n",
    "    mu_plus_te = np.exp(ols.predict(X_te_glm)) * smear\n",
    "    y_hat_te   = np.clip(p_hat_te * mu_plus_te, 0, None)\n",
    "\n",
    "    \n",
    "    pos_te = y_te_raw > 0\n",
    "    mae_pos  = mean_absolute_error(y_te_raw[pos_te], mu_plus_te[pos_te])\n",
    "    rm_pos   = rmse(y_te_raw[pos_te], mu_plus_te[pos_te])\n",
    "    r2_pos   = r2_score(y_te_raw[pos_te], mu_plus_te[pos_te])\n",
    "\n",
    "    mae_over = mean_absolute_error(y_te_raw, y_hat_te)\n",
    "    rm_over  = rmse(y_te_raw, y_hat_te)\n",
    "    r2_over  = r2_score(y_te_raw, y_hat_te)\n",
    "\n",
    "    maes_pos.append(mae_pos); rmses_pos.append(rm_pos); r2s_pos.append(r2_pos)\n",
    "    maes_over.append(mae_over); rmses_over.append(rm_over); r2s_over.append(r2_over)\n",
    "\n",
    "    print(f\"Fold {fold} — PART II (Y>0): MAE {mae_pos:.2f} | RMSE {rm_pos:.2f} | R² {r2_pos:.3f} \"\n",
    "          f\"|| OVERALL: MAE {mae_over:.2f} | RMSE {rm_over:.2f} | R² {r2_over:.3f}\")\n",
    "\n",
    "print(\"\\n 5-Fold CV Summary \")\n",
    "print(f\"Positives : MAE {np.mean(maes_pos):.2f}±{np.std(maes_pos):.2f} | \"\n",
    "      f\"RMSE {np.mean(rmses_pos):.2f}±{np.std(rmses_pos):.2f} | \"\n",
    "      f\"R² {np.mean(r2s_pos):.3f}±{np.std(r2s_pos):.3f}\")\n",
    "\n",
    "print(f\"Overall: MAE {np.mean(maes_over):.2f}±{np.std(maes_over):.2f} | \"\n",
    "      f\"RMSE {np.mean(rmses_over):.2f}±{np.std(rmses_over):.2f} | \"\n",
    "      f\"R² {np.mean(r2s_over):.3f}±{np.std(r2s_over):.3f}\")\n"
   ]
  },
  {
   "cell_type": "markdown",
   "id": "e09a350d",
   "metadata": {},
   "source": [
    "### Cubic splines + Ridge on log1p(y) "
   ]
  },
  {
   "cell_type": "code",
   "execution_count": null,
   "id": "bb236234",
   "metadata": {},
   "outputs": [],
   "source": [
    "from sklearn.preprocessing import SplineTransformer\n",
    "from sklearn.linear_model import RidgeCV"
   ]
  },
  {
   "cell_type": "code",
   "execution_count": 54,
   "id": "5e9e5be5",
   "metadata": {},
   "outputs": [],
   "source": [
    "num_cols_in = [c for c in num_sel if c in X_tr_raw.columns]\n",
    "cat_cols_in = [c for c in cat_sel if c in X_tr_raw.columns]\n",
    "\n",
    "# splines for numerics + One HotEncoding for categoricals\n",
    "num_pipe = Pipeline([\n",
    "    (\"spline\", SplineTransformer(degree=3, n_knots=7, knots=\"quantile\", include_bias=False)),\n",
    "    (\"sc\", StandardScaler()),\n",
    "])\n",
    "\n",
    "pre_spline = ColumnTransformer(\n",
    "    [(\"num\", num_pipe, num_cols_in)] +\n",
    "    ([(\"cat\", OneHotEncoder(drop=\"first\", handle_unknown=\"ignore\"), cat_cols_in)] if len(cat_cols_in) else []),\n",
    "    remainder=\"drop\"\n",
    ")"
   ]
  },
  {
   "cell_type": "code",
   "execution_count": null,
   "id": "f9840931",
   "metadata": {},
   "outputs": [],
   "source": [
    "# Model: Ridge with CV on alphas\n",
    "model_spline = Pipeline([\n",
    "    (\"pre\", pre_spline),\n",
    "    (\"ridge\", RidgeCV(alphas=np.logspace(-4, 3, 20), fit_intercept=True))\n",
    "])\n",
    "\n",
    "# Train on 'Training set with log1p transform\n",
    "y_tr_log1p = np.log1p(np.clip(y_tr_raw, 0, None))\n",
    "model_spline.fit(X_tr_raw[num_cols_in + cat_cols_in], y_tr_log1p)\n",
    "\n",
    "# Duan smearing on  residuals\n",
    "eta_tr = model_spline.predict(X_tr_raw[num_cols_in + cat_cols_in])\n",
    "res_tr = y_tr_log1p - eta_tr\n",
    "smear = float(np.mean(np.exp(res_tr)))"
   ]
  },
  {
   "cell_type": "code",
   "execution_count": 56,
   "id": "299aa355",
   "metadata": {},
   "outputs": [
    {
     "name": "stdout",
     "output_type": "stream",
     "text": [
      "Splines+Ridge (single-stage) — MAE/RMSE/R²: 132.612 390.535 0.306\n"
     ]
    }
   ],
   "source": [
    "# Predict on TEST and invert transform with smearing\n",
    "eta_te   = model_spline.predict(X_te_raw[num_cols_in + cat_cols_in])\n",
    "y_hat_te = np.clip(np.exp(eta_te) * smear - 1.0, 0, None)\n",
    "\n",
    "# Metrics\n",
    "rmse = lambda a,b: float(np.sqrt(mean_squared_error(a,b)))\n",
    "print(\"Splines+Ridge (single-stage) — MAE/RMSE/R²:\",\n",
    "      f\"{mean_absolute_error(y_te_raw, y_hat_te):.3f}\",\n",
    "      f\"{rmse(y_te_raw, y_hat_te):.3f}\",\n",
    "      f\"{r2_score(y_te_raw, y_hat_te):.3f}\")\n"
   ]
  },
  {
   "cell_type": "markdown",
   "id": "413caf0f",
   "metadata": {},
   "source": [
    "### Single-stage GAM on log1p(y) with splines + smoking factor + te(interactions) "
   ]
  },
  {
   "cell_type": "code",
   "execution_count": 25,
   "id": "8ae8bfd4",
   "metadata": {},
   "outputs": [],
   "source": [
    "from pygam import LinearGAM, s, f, te"
   ]
  },
  {
   "cell_type": "code",
   "execution_count": 26,
   "id": "bd5c667a",
   "metadata": {},
   "outputs": [],
   "source": [
    "num_cols_in = [c for c in num_sel if c in X_tr_raw.columns]\n",
    "use_smoking = (\"smoking\" in cat_sel) and (\"smoking\" in X_tr_raw.columns)\n",
    "\n",
    "# build GAM design: numerics and categorical ( smoking) as the last column\n",
    "Xtr_num = X_tr_raw[num_cols_in].to_numpy() #train\n",
    "Xte_num = X_te_raw[num_cols_in].to_numpy() #test\n",
    "\n",
    "if \"smoking\" in X_tr_raw.columns:\n",
    "    # one-hot encode 3 levels: 1=yes, 2=no, 3=ex-smoker\n",
    "    sm_tr = pd.get_dummies(X_tr_raw[\"smoking\"], prefix=\"smoke\", drop_first=True)\n",
    "    sm_te = pd.get_dummies(X_te_raw[\"smoking\"], prefix=\"smoke\", drop_first=True)\n",
    "\n",
    "    # align columns between train and test\n",
    "    sm_te = sm_te.reindex(columns=sm_tr.columns, fill_value=0)\n",
    "\n",
    "    # add to numeric design\n",
    "    Xtr_gam = np.c_[Xtr_num, sm_tr.to_numpy()]\n",
    "    Xte_gam = np.c_[Xte_num, sm_te.to_numpy()]\n",
    "else:\n",
    "    Xtr_gam, Xte_gam = Xtr_num, Xte_num\n",
    "\n",
    "y_tr_log1p = np.log1p(np.clip(y_tr_raw, 0, None))"
   ]
  },
  {
   "cell_type": "code",
   "execution_count": null,
   "id": "6e6dabc1",
   "metadata": {},
   "outputs": [
    {
     "name": "stderr",
     "output_type": "stream",
     "text": [
      "  0% (0 of 12) |                         | Elapsed Time: 0:00:00 ETA:  --:--:--\n",
      "  8% (1 of 12) |##                       | Elapsed Time: 0:00:03 ETA:   0:00:42\n",
      " 16% (2 of 12) |####                     | Elapsed Time: 0:00:07 ETA:   0:00:38\n",
      " 25% (3 of 12) |######                   | Elapsed Time: 0:00:11 ETA:   0:00:33\n",
      " 33% (4 of 12) |########                 | Elapsed Time: 0:00:14 ETA:   0:00:29\n",
      " 41% (5 of 12) |##########               | Elapsed Time: 0:00:18 ETA:   0:00:26\n",
      " 50% (6 of 12) |############             | Elapsed Time: 0:00:22 ETA:   0:00:22\n",
      " 58% (7 of 12) |##############           | Elapsed Time: 0:00:26 ETA:   0:00:18\n",
      " 66% (8 of 12) |################         | Elapsed Time: 0:00:30 ETA:   0:00:15\n",
      " 75% (9 of 12) |##################       | Elapsed Time: 0:00:33 ETA:   0:00:11\n",
      " 83% (10 of 12) |####################    | Elapsed Time: 0:00:37 ETA:   0:00:07\n",
      " 91% (11 of 12) |######################  | Elapsed Time: 0:00:41 ETA:   0:00:03\n",
      "100% (12 of 12) |########################| Elapsed Time: 0:00:44 Time:  0:00:44\n"
     ]
    }
   ],
   "source": [
    "p = Xtr_num.shape[1]                 # numeric features count\n",
    "terms = None\n",
    "for i in range(p):\n",
    "    terms = s(i, n_splines=8) if terms is None else terms + s(i, n_splines=8)\n",
    "\n",
    "if use_smoking:\n",
    "    sm_idx = p                       # smoking column index at the end\n",
    "    terms = terms + f(sm_idx)        # factor term for smoking\n",
    "    for i in range(p):\n",
    "        terms = terms + te(i, sm_idx, n_splines=6)  # spline×smoking interaction\n",
    "\n",
    "gam = LinearGAM(terms)\n",
    "gam.gridsearch(Xtr_gam, y_tr_log1p, lam=np.logspace(-4, 4, 12))\n",
    "\n",
    "# Duan smearing on log1p residuals\n",
    "eta_tr = gam.predict(Xtr_gam)\n",
    "smear  = float(np.mean(np.exp(y_tr_log1p - eta_tr)))"
   ]
  },
  {
   "cell_type": "code",
   "execution_count": 28,
   "id": "22012f57",
   "metadata": {},
   "outputs": [
    {
     "name": "stdout",
     "output_type": "stream",
     "text": [
      "GAM splines (single-stage) — MAE/RMSE/R²: 135.515 395.358 0.288\n"
     ]
    }
   ],
   "source": [
    "# Predict and invert transform\n",
    "eta_te   = gam.predict(Xte_gam)\n",
    "y_hat_te = np.clip(np.exp(eta_te) * smear - 1.0, 0, None)\n",
    "\n",
    "# Metrics\n",
    "rmse = lambda a,b: float(np.sqrt(mean_squared_error(a,b)))\n",
    "print(\"GAM splines (single-stage) — MAE/RMSE/R²:\",\n",
    "      f\"{mean_absolute_error(y_te_raw, y_hat_te):.3f}\",\n",
    "      f\"{rmse(y_te_raw, y_hat_te):.3f}\",\n",
    "      f\"{r2_score(y_te_raw, y_hat_te):.3f}\")\n"
   ]
  },
  {
   "cell_type": "markdown",
   "id": "cd69c731",
   "metadata": {},
   "source": [
    "### HURDLE MODEL with CatBoost: (Classifier P[y>0]) x (Regressor on log1p(y | y>0)) "
   ]
  },
  {
   "cell_type": "code",
   "execution_count": 29,
   "id": "cab2936e",
   "metadata": {},
   "outputs": [],
   "source": [
    "from catboost import CatBoostClassifier, CatBoostRegressor, Pool"
   ]
  },
  {
   "cell_type": "code",
   "execution_count": 30,
   "id": "f5137d6d",
   "metadata": {},
   "outputs": [],
   "source": [
    "def rmsle(y_true, y_pred, eps=1e-9): #RMSE\n",
    "    yt = np.clip(y_true, 0, None)\n",
    "    yp = np.clip(y_pred, 0, None)\n",
    "    return float(np.sqrt(np.mean((np.log1p(yp+eps) - np.log1p(yt+eps))**2)))\n",
    "\n",
    "def get_cat_indices(df: pd.DataFrame): #Caetgorical columns for CatBoost\n",
    "    cats = [c for c in df.columns if str(df[c].dtype) in (\"category\", \"object\", \"bool\")]\n",
    "    return [df.columns.get_loc(c) for c in cats]\n",
    "\n",
    "def make_pool(X, y=None, cat_idx=None):\n",
    "    if cat_idx is None: cat_idx = []\n",
    "    return Pool(X, label=y, cat_features=cat_idx) if y is not None else Pool(X, cat_features=cat_idx)\n"
   ]
  },
  {
   "cell_type": "code",
   "execution_count": null,
   "id": "84828d77",
   "metadata": {},
   "outputs": [],
   "source": [
    "y_tr = y_tr_raw.copy()\n",
    "y_te = y_te_raw.copy()\n",
    "\n",
    "y_tr_bin = (y_tr > 0).astype(int)\n",
    "y_te_bin = (y_te > 0).astype(int)\n",
    "\n",
    "X_tr_raw[\"smoking\"] = X_tr_raw[\"smoking\"].astype(\"string\")\n",
    "X_te_raw[\"smoking\"] = X_te_raw[\"smoking\"].astype(\"string\")\n",
    "cat_features = [\"smoking\"]   # CatBoost will handle this as categorical\n",
    "\n",
    "#  CatBoost Pools\n",
    "train_pool_cls = Pool(X_tr_raw, label=y_tr_bin, cat_features=cat_features)\n",
    "valid_pool_cls = Pool(X_te_raw,  label=y_te_bin,  cat_features=cat_features)\n",
    "test_pool      = Pool(X_te_raw,  cat_features=cat_features)"
   ]
  },
  {
   "cell_type": "code",
   "execution_count": null,
   "id": "753c7782",
   "metadata": {},
   "outputs": [
    {
     "name": "stdout",
     "output_type": "stream",
     "text": [
      "0:\ttest: 0.6814726\tbest: 0.6814726 (0)\ttotal: 183ms\tremaining: 6m 6s\n",
      "200:\ttest: 0.6866747\tbest: 0.7010804 (134)\ttotal: 7.39s\tremaining: 1m 6s\n",
      "Stopped by overfitting detector  (100 iterations wait)\n",
      "\n",
      "bestTest = 0.7010804322\n",
      "bestIteration = 134\n",
      "\n",
      "Shrink model to first 135 iterations.\n"
     ]
    },
    {
     "data": {
      "text/plain": [
       "<catboost.core.CatBoostClassifier at 0x23c9846c800>"
      ]
     },
     "execution_count": 32,
     "metadata": {},
     "output_type": "execute_result"
    }
   ],
   "source": [
    "\n",
    "pos_rate = y_tr_bin.mean()\n",
    "w_neg = 0.5 / (1 - pos_rate + 1e-9)\n",
    "w_pos = 0.5 / (pos_rate + 1e-9)\n",
    "class_weights = [w_neg, w_pos]\n",
    "\n",
    "clf = CatBoostClassifier(\n",
    "    loss_function=\"Logloss\",         # binary classification\n",
    "    eval_metric=\"AUC\",\n",
    "    depth=6, learning_rate=0.05,\n",
    "    iterations=2000,\n",
    "    early_stopping_rounds=100,\n",
    "    class_weights=class_weights,\n",
    "    random_seed=42,\n",
    "    verbose=200\n",
    ")\n",
    "clf.fit(train_pool_cls, eval_set=valid_pool_cls, use_best_model=True)\n"
   ]
  },
  {
   "cell_type": "code",
   "execution_count": null,
   "id": "5e8d54bc",
   "metadata": {},
   "outputs": [
    {
     "name": "stdout",
     "output_type": "stream",
     "text": [
      "0:\tlearn: 4.2531545\ttotal: 33.2ms\tremaining: 1m 6s\n",
      "200:\tlearn: 0.7481365\ttotal: 6.22s\tremaining: 55.6s\n",
      "400:\tlearn: 0.2798805\ttotal: 12.5s\tremaining: 49.7s\n",
      "600:\tlearn: 0.1141034\ttotal: 18.7s\tremaining: 43.6s\n",
      "800:\tlearn: 0.0500914\ttotal: 25s\tremaining: 37.3s\n",
      "1000:\tlearn: 0.0247279\ttotal: 31.1s\tremaining: 31s\n",
      "1200:\tlearn: 0.0134184\ttotal: 37.3s\tremaining: 24.8s\n",
      "1400:\tlearn: 0.0080215\ttotal: 43.5s\tremaining: 18.6s\n",
      "1600:\tlearn: 0.0053136\ttotal: 49.8s\tremaining: 12.4s\n",
      "1800:\tlearn: 0.0034736\ttotal: 55.9s\tremaining: 6.18s\n",
      "1999:\tlearn: 0.0024383\ttotal: 1m 2s\tremaining: 0us\n"
     ]
    }
   ],
   "source": [
    "\n",
    "pos_mask_tr = y_tr > 0\n",
    "X_tr_pos = X_tr_raw.loc[pos_mask_tr]\n",
    "y_tr_pos_log = np.log1p(y_tr[pos_mask_tr])     # log-transform stabilizes variance\n",
    "\n",
    "train_pool_reg = Pool(X_tr_pos, label=y_tr_pos_log, cat_features=cat_features)\n",
    "\n",
    "reg = CatBoostRegressor(\n",
    "    loss_function=\"Huber:delta=1.0\",  # robust to outliers\n",
    "    eval_metric=\"RMSE\",\n",
    "    depth=6, learning_rate=0.05,\n",
    "    iterations=2000,\n",
    "    early_stopping_rounds=100,\n",
    "    random_seed=42,\n",
    "    verbose=200\n",
    ")\n",
    "reg.fit(train_pool_reg)\n",
    "\n",
    "# Predict log1p(mean size | y>0) and back-transform\n",
    "m_hat_te = reg.predict(test_pool)\n",
    "mu_hat_te = np.expm1(m_hat_te)\n",
    "mu_hat_te = np.clip(mu_hat_te, 0, np.inf)"
   ]
  },
  {
   "cell_type": "code",
   "execution_count": null,
   "id": "ca136fe0",
   "metadata": {},
   "outputs": [
    {
     "name": "stdout",
     "output_type": "stream",
     "text": [
      "Hurdle CatBoost — Test metrics\n",
      "  MAE  : 137.259\n",
      "  RMSE : 461.054\n",
      "  R^2  : 0.032\n",
      "  RMSLE: 2.399\n",
      "\n",
      "Gate (classifier) metrics\n",
      "  AUC   : 0.625\n",
      "  PR-AUC: 0.659\n"
     ]
    }
   ],
   "source": [
    "\n",
    "\n",
    "# prediction = P(y>0) * E[y | y>0]\n",
    "y_hat_te = p_hat_te * mu_hat_te\n",
    "\n",
    "rmse = lambda a,b: float(np.sqrt(mean_squared_error(a,b)))\n",
    "\n",
    "\n",
    "print(\"Hurdle CatBoost — Test metrics\")\n",
    "print(f\"  MAE  : {mean_absolute_error(y_te, y_hat_te):.3f}\")\n",
    "print(f\"  RMSE : {rmse(y_te, y_hat_te):.3f}\")\n",
    "print(f\"  R^2  : {r2_score(y_te, y_hat_te):.3f}\")\n",
    "print(f\"  RMSLE: {rmsle(y_te, y_hat_te):.3f}\")\n",
    "\n",
    "print(\"\\nGate (classifier) metrics\")\n",
    "print(f\"  AUC   : {roc_auc_score(y_te_bin, p_hat_te):.3f}\")\n",
    "print(f\"  PR-AUC: {average_precision_score(y_te_bin, p_hat_te):.3f}\")"
   ]
  },
  {
   "cell_type": "markdown",
   "id": "15ed39f4",
   "metadata": {},
   "source": [
    "### Histogram-based Gradient Boosting Regressor (scikit-learn)\n",
    "- trains on log1p(y) to tame the heavy right tail; predictions are back-transformed \n"
   ]
  },
  {
   "cell_type": "code",
   "execution_count": 119,
   "id": "a562b994",
   "metadata": {},
   "outputs": [
    {
     "name": "stdout",
     "output_type": "stream",
     "text": [
      "HistGradientBoostingRegressor (log1p target) — Test metrics\n",
      "  MAE  : 128.800\n",
      "  RMSE : 469.947\n",
      "  R^2  : -0.013\n",
      "  RMSLE: 2.175\n"
     ]
    }
   ],
   "source": [
    "from sklearn.ensemble import HistGradientBoostingRegressor\n",
    "\n",
    "\n",
    "y_tr_log = np.log1p(y_tr_raw)\n",
    "y_te_log = np.log1p(y_te_raw)\n",
    "\n",
    "\n",
    "cat_cols = [\"smoking\"]\n",
    "num_cols = [c for c in X_tr_raw.columns if c not in cat_cols]\n",
    "\n",
    "pre = ColumnTransformer([\n",
    "    (\"cat\", OneHotEncoder(handle_unknown=\"ignore\", sparse_output=False), cat_cols),\n",
    "    (\"num\", \"passthrough\", num_cols)\n",
    "])\n",
    "\n",
    "hgb = HistGradientBoostingRegressor(\n",
    "    learning_rate=0.05,\n",
    "    max_depth=6,\n",
    "    l2_regularization=1.0,\n",
    "    max_bins=255,\n",
    "    early_stopping=True,\n",
    "    random_state=42\n",
    ")\n",
    "\n",
    "pipe = Pipeline([(\"pre\", pre), (\"hgb\", hgb)])\n",
    "pipe.fit(X_tr_raw, y_tr_log)\n",
    "\n",
    "# Predict \n",
    "y_hat_te = np.expm1(pipe.predict(X_te_raw))\n",
    "\n",
    "\n",
    "mae  = mean_absolute_error(y_te_raw, y_hat_te)\n",
    "rmse = np.sqrt(mean_squared_error(y_te_raw, y_hat_te))\n",
    "r2   = r2_score(y_te_raw, y_hat_te)\n",
    "rmsle = np.sqrt(np.mean((np.log1p(y_hat_te) - np.log1p(y_te_raw))**2))\n",
    "\n",
    "print(\"HistGradientBoostingRegressor (log1p target) — Test metrics\")\n",
    "print(f\"  MAE  : {mae:.3f}\")\n",
    "print(f\"  RMSE : {rmse:.3f}\")\n",
    "print(f\"  R^2  : {r2:.3f}\")\n",
    "print(f\"  RMSLE: {rmsle:.3f}\")\n"
   ]
  },
  {
   "cell_type": "markdown",
   "id": "9973a35b",
   "metadata": {},
   "source": [
    "### Ordinal Classification + Regression Approach\n",
    "\n",
    "- Transform continuous CAC into **ordered categories** (0, 1–100, 101–400, 401–1000, >1000).  \n",
    "- **Step 1:** Train a **gradient boosting classifier** (with probability calibration) to predict the probability of each CAC class.  \n",
    "- **Step 2:** Convert probabilities back to a continuous score using **class representatives** (bin medians).  \n"
   ]
  },
  {
   "cell_type": "code",
   "execution_count": null,
   "id": "be136a5f",
   "metadata": {},
   "outputs": [
    {
     "name": "stdout",
     "output_type": "stream",
     "text": [
      "Class counts:\n",
      " 0    254\n",
      "1    145\n",
      "2     57\n",
      "3     43\n",
      "Name: count, dtype: int64\n"
     ]
    }
   ],
   "source": [
    "\n",
    "from sklearn.ensemble import GradientBoostingClassifier\n",
    "from sklearn.calibration import CalibratedClassifierCV\n",
    "\n",
    "TARGET = \"coronary_calcification_score\"\n",
    "X_all = df_complete.drop(columns=[TARGET]).copy()\n",
    "y_all = df_complete[TARGET].to_numpy()\n",
    "\n",
    "# bins & labels\n",
    "bins   = np.array([-np.inf, 0, 100, 400, np.inf]) \n",
    "labels = np.arange(len(bins) - 1)  \n",
    "\n",
    "y_cls = pd.cut(y_all, bins=bins, labels=labels, right=True).astype(int)\n",
    "\n",
    "counts = pd.Series(y_cls).value_counts().sort_index()\n",
    "print(\"Class counts:\\n\", counts)"
   ]
  },
  {
   "cell_type": "code",
   "execution_count": null,
   "id": "5fc90f75",
   "metadata": {},
   "outputs": [],
   "source": [
    "num_cols = X_all.select_dtypes(include=[np.number]).columns.tolist()\n",
    "cat_cols = [c for c in X_all.columns if c not in num_cols]\n",
    "\n",
    "ohe_kwargs = dict(drop=\"first\", handle_unknown=\"ignore\")\n",
    "\n",
    "pre = ColumnTransformer([\n",
    "    (\"num\", StandardScaler(), num_cols),\n",
    "    (\"cat\", OneHotEncoder(**ohe_kwargs), cat_cols)\n",
    "], remainder=\"drop\")\n",
    "\n",
    "# base classifier + calibration \n",
    "base_clf = Pipeline([\n",
    "    (\"pre\", pre),\n",
    "    (\"gb\", GradientBoostingClassifier(\n",
    "        n_estimators=600, learning_rate=0.05, max_depth=3,\n",
    "        subsample=0.8, random_state=42\n",
    "    ))\n",
    "])\n",
    "clf = CalibratedClassifierCV(estimator=base_clf, method=\"isotonic\", cv=3)\n",
    "\n",
    "#train-based medians\n",
    "def bin_reps(y_train):\n",
    "    reps = []\n",
    "    for (lo, hi), lbl in zip(zip(bins[:-1], bins[1:]), labels):\n",
    "        mask = (y_train > lo) & (y_train <= hi)\n",
    "        if mask.any():\n",
    "            reps.append(float(np.median(y_train[mask])))\n",
    "        else:\n",
    "            \n",
    "            if np.isfinite(lo) and np.isfinite(hi):\n",
    "                reps.append(float((lo+hi)/2.0))\n",
    "            elif lo==400 and np.isinf(hi):\n",
    "                reps.append(600.0)\n",
    "            else:\n",
    "                reps.append(0.0)\n",
    "    return np.array(reps, dtype=float)\n"
   ]
  },
  {
   "cell_type": "code",
   "execution_count": 118,
   "id": "544bd39e",
   "metadata": {},
   "outputs": [
    {
     "name": "stdout",
     "output_type": "stream",
     "text": [
      "Fold 1: MAE 142.35 | RMSE 332.87 | R² 0.082\n",
      "Fold 2: MAE 175.02 | RMSE 512.05 | R² 0.021\n",
      "Fold 3: MAE 127.03 | RMSE 293.87 | R² 0.108\n",
      "Fold 4: MAE 122.92 | RMSE 207.02 | R² 0.070\n",
      "Fold 5: MAE 148.57 | RMSE 349.74 | R² 0.064\n",
      "\n",
      "5-fold CV — MAE 143.18±18.52 | RMSE 339.11±99.56 | R² 0.069±0.029\n"
     ]
    }
   ],
   "source": [
    "# 5-fold stratified CV\n",
    "K=5\n",
    "skf = StratifiedKFold(n_splits=K, shuffle=True, random_state=42)\n",
    "maes, rmses, r2s = [], [], []\n",
    "\n",
    "for i,(tr,te) in enumerate(skf.split(X_all, y_cls),1):\n",
    "    Xtr, Xte = X_all.iloc[tr], X_all.iloc[te]\n",
    "    ytr_cont, yte_cont = y_all[tr], y_all[te]\n",
    "    ytr_cls, yte_cls = y_cls[tr], y_cls[te]\n",
    "\n",
    "\n",
    "    # fit classifier on train\n",
    "    clf.fit(Xtr, ytr_cls)\n",
    "\n",
    "    # class probabilities on test\n",
    "    P = clf.predict_proba(Xte)  \n",
    "\n",
    "    # reps from TRAIN ONLY\n",
    "    reps = bin_reps(ytr_cont)  \n",
    "\n",
    "    # expected CAC = sum_k P_k * rep_k\n",
    "    y_hat = (P * reps[None, :]).sum(axis=1)\n",
    "\n",
    "    # metrics \n",
    "    rmse = lambda a,b: float(np.sqrt(((a-b)**2).mean()))\n",
    "    mae = mean_absolute_error(yte_cont, y_hat)\n",
    "    rm  = rmse(yte_cont, y_hat)\n",
    "    r2  = r2_score(yte_cont, y_hat)\n",
    "\n",
    "    maes.append(mae); rmses.append(rm); r2s.append(r2)\n",
    "    print(f\"Fold {i}: MAE {mae:.2f} | RMSE {rm:.2f} | R² {r2:.3f}\")\n",
    "\n",
    "print(f\"\\n{K}-fold CV — MAE {np.mean(maes):.2f}±{np.std(maes):.2f} | \"\n",
    "      f\"RMSE {np.mean(rmses):.2f}±{np.std(rmses):.2f} | \"\n",
    "      f\"R² {np.mean(r2s):.3f}±{np.std(r2s):.3f}\")\n"
   ]
  },
  {
   "cell_type": "code",
   "execution_count": null,
   "id": "fdc0e89e",
   "metadata": {},
   "outputs": [
    {
     "data": {
      "image/png": "[encoded data removed]",
      "text/plain": [
       "<Figure size 640x480 with 1 Axes>"
      ]
     },
     "metadata": {},
     "output_type": "display_data"
    }
   ],
   "source": [
    "\n",
    "plt.scatter(yte_cont, y_hat, alpha=0.6)\n",
    "plt.plot([0, yte_cont.max()],[0, yte_cont.max()], ls=\"--\")\n",
    "plt.xlabel(\"Actual CAC\"); plt.ylabel(\"Predicted CAC\"); plt.title(\"Predicted vs Actual\"); plt.show()\n"
   ]
  },
  {
   "cell_type": "code",
   "execution_count": 123,
   "id": "115a0955",
   "metadata": {},
   "outputs": [
    {
     "data": {
      "image/png": "[encoded data removed]",
      "text/plain": [
       "<Figure size 640x480 with 1 Axes>"
      ]
     },
     "metadata": {},
     "output_type": "display_data"
    }
   ],
   "source": [
    "from sklearn.calibration import calibration_curve\n",
    "frac_pos, mean_pred = calibration_curve((y_te_raw>0).astype(int), p_hat_te, n_bins=10, strategy=\"quantile\")\n",
    "plt.plot(mean_pred, frac_pos, \"o-\")\n",
    "plt.plot([0,1],[0,1],\"r--\")\n",
    "plt.xlabel(\"Predicted Probability\")\n",
    "plt.ylabel(\"Observed Frequency\")\n",
    "plt.title(\"Calibration Curve — P(CAC > 0)\")\n",
    "plt.show()\n"
   ]
  }
 ],
 "metadata": {
  "kernelspec": {
   "display_name": "Python 3",
   "language": "python",
   "name": "python3"
  },
  "language_info": {
   "codemirror_mode": {
    "name": "ipython",
    "version": 3
   },
   "file_extension": ".py",
   "mimetype": "text/x-python",
   "name": "python",
   "nbconvert_exporter": "python",
   "pygments_lexer": "ipython3",
   "version": "3.12.10"
  }
 },
 "nbformat": 4,
 "nbformat_minor": 5
}
